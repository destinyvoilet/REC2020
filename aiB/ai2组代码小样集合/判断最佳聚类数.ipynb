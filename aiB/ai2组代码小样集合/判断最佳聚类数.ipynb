{
 "cells": [
  {
   "cell_type": "code",
   "execution_count": 1,
   "metadata": {},
   "outputs": [],
   "source": [
    "import random\n",
    "import numpy as np\n",
    "import matplotlib.pyplot as plt\n",
    "\n",
    "def distance(x, y): #求距离\n",
    "    return abs(x-y)\n",
    "\n",
    "def Clustering(data, k):\n",
    "    #data:分数列表[[分数1， 人数1],...,[分数n， 人数n]] ， k：超参量，簇的数目\n",
    "    cluster = [] #创建簇中心集合的数组\n",
    "    belong = []  #记录每一个分数隶属于哪一个中心\n",
    "    for _ in range(k): #按照k值在cluster中创建代表簇中心数\n",
    "        cluster.append(data[random.randint(0, len(data)-1)][0])\n",
    "    for _ in range(len(data)):\n",
    "        belong.append(-1)  #定义初始值-1表示尚未归属\n",
    "    while True:\n",
    "        change = False #标志簇中心是否发生变化\n",
    "        for index, d in enumerate(data):\n",
    "            dis = []  #距离列表\n",
    "            for c in cluster:\n",
    "                dis.append( distance(d[0], c) )\n",
    "            if belong[index] != dis.index(min(dis)):\n",
    "                change = True\n",
    "                belong[index] = dis.index(min(dis)) \n",
    "        if change == False:\n",
    "            break\n",
    "        for index, c in enumerate(cluster):\n",
    "            sum = 0\n",
    "            num = 0\n",
    "            for i, b in enumerate(belong):\n",
    "                if index == b:\n",
    "                    sum = sum + (data[i][0] * data[i][1])\n",
    "                    num = num + data[i][1]\n",
    "            if num == 0:\n",
    "                c = 0\n",
    "            else:\n",
    "                c = sum/num\n",
    "                cluster[index] = c\n",
    "    return cluster,belong\n",
    "\n",
    "def criterion(data, cluster, belong):\n",
    "    #data::分数列表[[分数1， 人数1],...,[分数n， 人数n]]\n",
    "    #cluster:聚类中心数组，长度为k\n",
    "    #belong:分数隶属中心列表\n",
    "    k = len(cluster)  # 获取聚类数\n",
    "    WSS = 0  # WSS:Within cluster sum of squares,表示各个点到cluster中心距离的平方和,代表误差\n",
    "    for i in range(0,k):\n",
    "        for index, b in enumerate(belong):\n",
    "            if b == i:\n",
    "                WSS += distance(cluster[i], data[index][0])\n",
    "    return WSS; "
   ]
  },
  {
   "cell_type": "code",
   "execution_count": 2,
   "metadata": {},
   "outputs": [],
   "source": [
    "import os\n",
    "import csv\n",
    "import matplotlib.pyplot as plt\n",
    "import re\n",
    "\n",
    "a=[]\n",
    "b=[]\n",
    "c=[]\n",
    "name='2018江苏理科.json'\n",
    "pattern = re.compile('\"(.*)\"')\n",
    "if os.path.isfile(name):\n",
    "    with open(name,\"r\",encoding=\"utf-8\") as csvfile:\n",
    "        reader = csv.reader(csvfile)\n",
    "        for line in reader:\n",
    "            #print(line)\n",
    "            c.append(line)\n",
    "for i in range(len(c)):\n",
    "    if i>3 and i<len(c)-4:\n",
    "        st=pattern.findall(str(c[i]))\n",
    "        a.append(float(st[0]))  # 分数变化\n",
    "        b.append(float(c[i][0].split(':')[1]))\n",
    "        \n",
    "    \n",
    "plt.rcParams['font.sans-serif'] = ['SimHei']\n",
    "plt.rcParams['axes.unicode_minus'] = False\n",
    "\n",
    "\n",
    "d=[]\n",
    "for i in range(len(b)):\n",
    "    if i==0:\n",
    "        d.append(b[i])  # 每个分数的人数\n",
    "    else:\n",
    "        d.append(b[i]-b[i-1])\n",
    "\n",
    "data = []\n",
    "for i in range(len(d)):\n",
    "    temp = [a[i],d[i]]\n",
    "    data.append(temp)"
   ]
  },
  {
   "cell_type": "code",
   "execution_count": 3,
   "metadata": {},
   "outputs": [
    {
     "name": "stdout",
     "output_type": "stream",
     "text": [
      "最佳聚类数为: 2\n"
     ]
    },
    {
     "data": {
      "image/png": "[encoded data removed]",
      "text/plain": [
       "<Figure size 432x288 with 1 Axes>"
      ]
     },
     "metadata": {
      "needs_background": "light"
     },
     "output_type": "display_data"
    }
   ],
   "source": [
    "#获取最佳聚类数\n",
    "maxk = 8\n",
    "WSSarray = []  # 对聚类数为1,2,...maxk，分别存储其误差值，WSSarray的长度为maxk\n",
    "for i in range(1,maxk+1):\n",
    "    cluster, belong = Clustering(data, i)\n",
    "    WSS = criterion(data,cluster,belong)\n",
    "    WSSarray.append(WSS)\n",
    "# print(\"不同聚类数对应的误差值所组成的数组为:\",WSS)  # 输出误差数组\n",
    "\n",
    "WSSDelta = list(np.ones(maxk))  # 获得误差数组的增量差，选择增量差最大的点对应的聚类数作为合适的聚类数\n",
    "WSSDelta[0] = 0\n",
    "maxDelta = -1\n",
    "indexDelta = 0\n",
    "for i in range(1,maxk):\n",
    "    WSSDelta[i] = WSSarray[i-1] - WSSarray[i]\n",
    "    if WSSDelta[i]>maxDelta:\n",
    "        maxDelta = WSSDelta[i]\n",
    "        indexDelta = i+1  # 最好的聚类数\n",
    "# print(\"最大的误差差值为:\",maxDelta)  # 输出最大误差\n",
    "# print(\"误差差值对应的数组为:\",SSEDelta)  # 输出误差差值\n",
    "print(\"最佳聚类数为:\",indexDelta)#输出最佳聚类数\n",
    "\n",
    "x = list(range(1,maxk+1))\n",
    "plt.plot(x, WSSarray)\n",
    "plt.show()"
   ]
  },
  {
   "cell_type": "code",
   "execution_count": null,
   "metadata": {},
   "outputs": [],
   "source": []
  }
 ],
 "metadata": {
  "kernelspec": {
   "display_name": "Python 3",
   "language": "python",
   "name": "python3"
  },
  "language_info": {
   "codemirror_mode": {
    "name": "ipython",
    "version": 3
   },
   "file_extension": ".py",
   "mimetype": "text/x-python",
   "name": "python",
   "nbconvert_exporter": "python",
   "pygments_lexer": "ipython3",
   "version": "3.7.3"
  }
 },
 "nbformat": 4,
 "nbformat_minor": 2
}
