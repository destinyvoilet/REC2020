{
 "cells": [
  {
   "cell_type": "code",
   "execution_count": 2,
   "metadata": {},
   "outputs": [],
   "source": [
    "# -*- coding: utf-8 -*-\n",
    "\n",
    "\n",
    "import csv\n",
    "import os\n",
    "import matplotlib.pyplot as plt\n",
    "import re\n",
    "import random\n",
    "import numpy as np\n",
    "import sqlite3 as db\n",
    "\n",
    "######part1 从数据库中读取数据\n",
    "\n",
    "\n",
    "def readFronSqllite(db_path,exectCmd):\n",
    "    conn = db.connect(db_path)  # 该 API 打开一个到 SQLite 数据库文件 database 的链接，如果数据库成功打开，则返回一个连接对象\n",
    "    cursor=conn.cursor()        # 该例程创建一个 cursor，将在 Python 数据库编程中用到。\n",
    "    conn.row_factory=db.Row     # 可访问列信息\n",
    "    cursor.execute(exectCmd)    #该例程执行一个 SQL 语句\n",
    "    rows=cursor.fetchall()      #该例程获取查询结果集中所有（剩余）的行，返回一个列表。当没有可用的行时，则返回一个空的列表。\n",
    "    return rows\n",
    "\n",
    "def readfromAppaFrame(ARPAFrame):\n",
    "    subARPA=ARPAFrame.split(',')\n",
    "    return subARPA\n",
    "\n",
    "def get_dataset(path='./db.sqlite3'):\n",
    "    dataset = []\n",
    "    for provinceID in [i + 1 for i in range(34)]:\n",
    "        for year in [i + 2017 for i in range(3)]:\n",
    "            for categoryID in range(1,4):\n",
    "                sql = 'select score,rank from Rankings where provinceID_id=%s and year=%s and categoryID_id=%s' % (provinceID, year,categoryID)\n",
    "                rows = readFronSqllite(path, sql)\n",
    "                data = []\n",
    "                data.append((provinceID, year,categoryID))\n",
    "                for row in rows:\n",
    "                    data.append(list(row))\n",
    "                for i in range(len(data) - 2):\n",
    "                    data[-(1 + i)][-1] = data[-(1 + i)][-1] - data[-(2 + i)][-1]\n",
    "                dataset.append(data)\n",
    "    return dataset\n",
    "\n",
    "\n",
    "def distance(x, y): #求距离\n",
    "    return abs(x-y)\n",
    "\n",
    "def Clustering(data, k):\n",
    "    #data:分数列表[[分数1， 人数1],...,[分数n， 人数n]] ， k：超参量，簇的数目\n",
    "    cluster = [] #创建簇中心集合的数组\n",
    "    belong = []  #记录每一个分数隶属于哪一个中心\n",
    "    for _ in range(k): #按照k值在cluster中创建代表簇中心数\n",
    "        cluster.append(data[random.randint(0, len(data)-1)][0])\n",
    "    for _ in range(len(data)):\n",
    "        belong.append(-1)  #定义初始值-1表示尚未归属\n",
    "    while True:\n",
    "        change = False #标志簇中心是否发生变化\n",
    "        for index, d in enumerate(data):\n",
    "            dis = []  #距离列表\n",
    "            for c in cluster:\n",
    "                dis.append( distance(d[0], c) )\n",
    "            if belong[index] != dis.index(min(dis)):\n",
    "                change = True\n",
    "                belong[index] = dis.index(min(dis))\n",
    "        if change == False:\n",
    "            break\n",
    "        for index, c in enumerate(cluster):\n",
    "            sum = 0\n",
    "            num = 0\n",
    "            for i, b in enumerate(belong):\n",
    "                if index == b:\n",
    "                    sum = sum + (data[i][0] * data[i][1])\n",
    "                    num = num + data[i][1]\n",
    "            if num == 0:\n",
    "                c = 0\n",
    "            else:\n",
    "                c = sum/num\n",
    "                cluster[index] = c\n",
    "    return cluster,belong\n",
    "\n",
    "def criterion(data, cluster, belong):\n",
    "    #data::分数列表[[分数1， 人数1],...,[分数n， 人数n]]\n",
    "    #cluster:聚类中心数组，长度为k\n",
    "    #belong:分数隶属中心列表\n",
    "    k = len(cluster)  # 获取聚类数\n",
    "    WSS = 0  # WSS:Within cluster sum of squares,表示各个点到cluster中心距离的绝对值,代表误差\n",
    "    for i in range(0,k):\n",
    "        for index, b in enumerate(belong):\n",
    "            if b == i:\n",
    "                WSS += distance(cluster[i], data[index][0])\n",
    "    return WSS;\n",
    "\n",
    "\n"
   ]
  },
  {
   "cell_type": "code",
   "execution_count": 3,
   "metadata": {},
   "outputs": [
    {
     "data": {
      "image/png": "[encoded data removed]",
      "text/plain": [
       "<Figure size 432x288 with 1 Axes>"
      ]
     },
     "metadata": {
      "needs_background": "light"
     },
     "output_type": "display_data"
    },
    {
     "name": "stdout",
     "output_type": "stream",
     "text": [
      "分数列表： [411, 410, 409, 408, 407, 406, 405, 404, 403, 402, 401, 400, 399, 398, 397, 396, 395, 394, 393, 392, 391, 390, 389, 388, 387, 386, 385, 384, 383, 382, 381, 380, 379, 378, 377, 376, 375, 374, 373, 372, 371, 370, 369, 368, 367, 366, 365, 364, 363, 362, 361, 360, 359, 358, 357, 356, 355, 354, 353, 352, 351, 350, 349, 348, 347, 346, 345, 344, 343, 342, 341, 340, 339, 338, 337, 336, 335, 334, 333, 332, 331, 330, 329, 328, 327, 326, 325, 324, 323, 322, 321, 320, 319, 318, 317, 316, 315, 314, 313, 312, 311, 310, 309, 308, 307, 306, 305, 304, 303, 302, 301, 300, 299, 298, 297, 296, 295, 294, 293, 292, 291, 290, 289, 288, 287, 286, 285, 284, 283, 282, 281, 280, 279, 278, 277, 276, 275]\n",
      "([357.0664590635954, 315.0380747571013], [0, 0, 0, 0, 0, 0, 0, 0, 0, 0, 0, 0, 0, 0, 0, 0, 0, 0, 0, 0, 0, 0, 0, 0, 0, 0, 0, 0, 0, 0, 0, 0, 0, 0, 0, 0, 0, 0, 0, 0, 0, 0, 0, 0, 0, 0, 0, 0, 0, 0, 0, 0, 0, 0, 0, 0, 0, 0, 0, 0, 0, 0, 0, 0, 0, 0, 0, 0, 0, 0, 0, 0, 0, 0, 0, 1, 1, 1, 1, 1, 1, 1, 1, 1, 1, 1, 1, 1, 1, 1, 1, 1, 1, 1, 1, 1, 1, 1, 1, 1, 1, 1, 1, 1, 1, 1, 1, 1, 1, 1, 1, 1, 1, 1, 1, 1, 1, 1, 1, 1, 1, 1, 1, 1, 1, 1, 1, 1, 1, 1, 1, 1, 1, 1, 1, 1, 1])\n",
      "([340.3630345273016, 295.75738491527966, 359.80959481119766, 320.36617312072894, 382.24975409103104], [4, 4, 4, 4, 4, 4, 4, 4, 4, 4, 4, 4, 4, 4, 4, 4, 4, 4, 4, 4, 4, 4, 4, 4, 4, 4, 4, 4, 4, 4, 4, 4, 4, 4, 4, 4, 4, 4, 4, 4, 2, 2, 2, 2, 2, 2, 2, 2, 2, 2, 2, 2, 2, 2, 2, 2, 2, 2, 2, 2, 2, 0, 0, 0, 0, 0, 0, 0, 0, 0, 0, 0, 0, 0, 0, 0, 0, 0, 0, 0, 0, 3, 3, 3, 3, 3, 3, 3, 3, 3, 3, 3, 3, 3, 3, 3, 3, 3, 3, 3, 3, 3, 3, 1, 1, 1, 1, 1, 1, 1, 1, 1, 1, 1, 1, 1, 1, 1, 1, 1, 1, 1, 1, 1, 1, 1, 1, 1, 1, 1, 1, 1, 1, 1, 1, 1, 1])\n"
     ]
    },
    {
     "name": "stderr",
     "output_type": "stream",
     "text": [
      "D:\\anaconda\\lib\\site-packages\\matplotlib\\backends\\backend_agg.py:214: RuntimeWarning: Glyph 20998 missing from current font.\n",
      "  font.set_text(s, 0.0, flags=flags)\n",
      "D:\\anaconda\\lib\\site-packages\\matplotlib\\backends\\backend_agg.py:214: RuntimeWarning: Glyph 25968 missing from current font.\n",
      "  font.set_text(s, 0.0, flags=flags)\n",
      "D:\\anaconda\\lib\\site-packages\\matplotlib\\backends\\backend_agg.py:214: RuntimeWarning: Glyph 20154 missing from current font.\n",
      "  font.set_text(s, 0.0, flags=flags)\n",
      "D:\\anaconda\\lib\\site-packages\\matplotlib\\backends\\backend_agg.py:183: RuntimeWarning: Glyph 20998 missing from current font.\n",
      "  font.set_text(s, 0, flags=flags)\n",
      "D:\\anaconda\\lib\\site-packages\\matplotlib\\backends\\backend_agg.py:183: RuntimeWarning: Glyph 25968 missing from current font.\n",
      "  font.set_text(s, 0, flags=flags)\n",
      "D:\\anaconda\\lib\\site-packages\\matplotlib\\backends\\backend_agg.py:183: RuntimeWarning: Glyph 20154 missing from current font.\n",
      "  font.set_text(s, 0, flags=flags)\n"
     ]
    },
    {
     "data": {
      "image/png": "[encoded data removed]",
      "text/plain": [
       "<Figure size 432x288 with 1 Axes>"
      ]
     },
     "metadata": {
      "needs_background": "light"
     },
     "output_type": "display_data"
    }
   ],
   "source": [
    "\n",
    "dataset = get_dataset()\n",
    "testdata=[]\n",
    "for item in dataset:\n",
    "    if(item[0]==(4,2018,2)):\n",
    "        for items in item:\n",
    "            testdata.append(items)\n",
    "testdata.remove((4,2018,2))\n",
    "\n",
    "#获取最佳聚类数\n",
    "maxk = 9 #所测试的最大聚类数\n",
    "WSSarray = []  # 对聚类数为1,2,...maxk，分别存储其误差值，WSSarray的长度为maxk\n",
    "for i in range(1,maxk+1):\n",
    "    cluster, belong = Clustering(testdata, i)\n",
    "    WSS = criterion(testdata,cluster,belong)\n",
    "    WSSarray.append(WSS)\n",
    "# print(\"不同聚类数对应的误差值所组成的数组为:\",WSS)  # 输出误差数组\n",
    "\n",
    "WSSDelta = list(np.ones(maxk))  # 获得误差数组的增量差，选择增量差最大的点对应的聚类数作为合适的聚类数\n",
    "WSSDelta[0] = 0\n",
    "maxDelta = -1\n",
    "indexDelta = 0\n",
    "for i in range(1,maxk):\n",
    "    WSSDelta[i] = WSSarray[i-1] - WSSarray[i]\n",
    "    if WSSDelta[i]>maxDelta:\n",
    "        maxDelta = WSSDelta[i]\n",
    "        indexDelta = i+1  # 较好的聚类数\n",
    "# print(\"最大的误差差值为:\",maxDelta)  # 输出最大误差\n",
    "# print(\"误差差值对应的数组为:\",SSEDelta)  # 输出误差差值\n",
    "#print(WSSDelta)\n",
    "#print(\"最佳聚类数为:\",indexDelta)#输出最佳聚类数\n",
    "\n",
    "x = list(range(1,maxk+1))\n",
    "plt.figure()\n",
    "plt.plot(x, WSSarray)\n",
    "plt.show()\n",
    "\n",
    "\n",
    "###此处选取最佳聚类数有两点需要改进或者思考：（1）距离度量的范数（2）拐点的确定\n",
    "#根据差值，最大拐点往往是k=2，但是从图示可以看出，k=5也可以作为一个较好的拐点进行聚类\n",
    "\n",
    "\n",
    "x = [d[0] for d in testdata]\n",
    "y = [d[1] for d in testdata]\n",
    "\n",
    "###\n",
    "print('分数列表：',x)\n",
    "\n",
    "belong1 = Clustering(testdata,2)\n",
    "print(belong1)\n",
    "\n",
    "belong2 = Clustering(testdata,5)\n",
    "print(belong2)\n",
    "\n",
    "\n",
    "colorlist=[]\n",
    "for items in belong2[1]:\n",
    "    if(items==0):\n",
    "        colorlist.append('grey')\n",
    "    if(items==1):\n",
    "        colorlist.append('gold')\n",
    "    if(items==2):\n",
    "        colorlist.append('turquoise')\n",
    "    if(items==3):\n",
    "        colorlist.append('plum')\n",
    "    if(items==4):\n",
    "        colorlist.append('lawngreen')\n",
    "\n",
    "plt.figure()\n",
    "plt.xlabel('分数')\n",
    "plt.ylabel('人数')\n",
    "plt.bar(x, y, color=colorlist, alpha=0.8)\n",
    "plt.show()\n",
    "\n",
    "#最后print出聚类边界和每一个分数的标签，并画出一个分段聚类彩色图(以k=5为例)\n",
    "#2020.9.18"
   ]
  },
  {
   "cell_type": "code",
   "execution_count": 9,
   "metadata": {},
   "outputs": [
    {
     "data": {
      "text/plain": [
       "\"\\n [1, 2, '北京大学', 681.0],\\n [1, 1, '中国人民大学', 635.0704225352113],\\n [1, 2, '中国人民大学', 654.8169014084507],\\n [1, 1, '清华大学', 654.6666666666666],\\n [1, 2, '清华大学', 675.8333333333334],\\n [1, 1, '北京交通大学', 616.0],\\n [1, 2, '北京交通大学', 616.25],\\n [1, 1, '北京航空航天大学', 629.5],\\n\""
      ]
     },
     "execution_count": 9,
     "metadata": {},
     "output_type": "execute_result"
    }
   ],
   "source": [
    "def get_dic(path='./db.sqlite3'):\n",
    "    sql = 'select * from Provinces'\n",
    "    rows = readFronSqllite(path, sql)\n",
    "    Dic = {}\n",
    "    for row in rows:\n",
    "        Dic[row[0]]=row[1]\n",
    "    return Dic\n",
    "\n",
    "def get_college_name(path='./db.sqlite3'):\n",
    "    sql = 'select collegeID,collegeName from Colleges'\n",
    "    rows = readFronSqllite(path, sql)\n",
    "    Dic = {}\n",
    "    for row in rows:\n",
    "        Dic[row[0]]=row[1]\n",
    "    return Dic\n",
    "\n",
    "rows = readFronSqllite('./db.sqlite3', 'select provinceID_id,categoryID_id,collegeID_id,avg(minScore) from Majors group by provinceID_id,collegeID_id,categoryID_id')\n",
    "College_dataset = []\n",
    "for row in rows:\n",
    "    College_dataset.append(list(row))\n",
    "Dic = get_college_name(path='./db.sqlite3')\n",
    "for d in College_dataset:\n",
    "    d[2] = Dic.get(d[2])\n",
    "\n",
    "Score_dataset = get_dataset()\n",
    "\n",
    "rows = readFronSqllite('./db.sqlite3', 'select provinceID_id,collegeID_id,categoryID_id,year,majorName,minScore  from Majors')\n",
    "Major_dataset = []\n",
    "for row in rows:\n",
    "    Major_dataset.append(list(row))\n",
    "\n",
    "#print(Score_dataset)#分段聚类输入数据（功能1）\n",
    "#print(College_dataset)#大学推荐输入数据（功能1延展）\n",
    "#print(Major_dataset)#学校专业评级输入数据（功能2）\n",
    "\n",
    "#Score_dataset形式：[  [ (provinceID,year，categoryID),[分数，人数], [分数，人数]...,[分数，人数] ] , [], []   ]\n",
    "#College_dataset:[[1, 1, '北京大学', 653.6666666666666],\n",
    "'''\n",
    " [1, 2, '北京大学', 681.0],\n",
    " [1, 1, '中国人民大学', 635.0704225352113],\n",
    " [1, 2, '中国人民大学', 654.8169014084507],\n",
    " [1, 1, '清华大学', 654.6666666666666],\n",
    " [1, 2, '清华大学', 675.8333333333334],\n",
    " [1, 1, '北京交通大学', 616.0],\n",
    " [1, 2, '北京交通大学', 616.25],\n",
    " [1, 1, '北京航空航天大学', 629.5],\n",
    "'''\n",
    "#Major_dataset:省份编号，大学编号，科目，年份，专业名称，分数"
   ]
  },
  {
   "cell_type": "code",
   "execution_count": 18,
   "metadata": {},
   "outputs": [
    {
     "data": {
      "image/png": "[encoded data removed]",
      "text/plain": [
       "<Figure size 432x288 with 1 Axes>"
      ]
     },
     "metadata": {
      "needs_background": "light"
     },
     "output_type": "display_data"
    },
    {
     "data": {
      "image/png": "[encoded data removed]",
      "text/plain": [
       "<Figure size 432x288 with 1 Axes>"
      ]
     },
     "metadata": {
      "needs_background": "light"
     },
     "output_type": "display_data"
    },
    {
     "data": {
      "image/png": "[encoded data removed]",
      "text/plain": [
       "<Figure size 432x288 with 1 Axes>"
      ]
     },
     "metadata": {
      "needs_background": "light"
     },
     "output_type": "display_data"
    }
   ],
   "source": [
    "user=[2,1,380]#省id,,理科1文科2综合3,分\n",
    "#（2，2017，1）（2，2018，1）（2，2019，1）\n",
    "\n",
    "#user[2]\n",
    "dataset = get_dataset()\n",
    "testdata=[]\n",
    "for item in dataset:\n",
    "    if(item[0]==(4,2017,2)):\n",
    "        for items in item:\n",
    "            testdata.append(items)\n",
    "testdata.remove((4,2017,2))\n",
    "\n",
    "x = [d[0] for d in testdata]\n",
    "y = [d[1] for d in testdata]\n",
    "\n",
    "dataset1 = get_dataset()\n",
    "testdata1=[]\n",
    "for item in dataset1:\n",
    "    if(item[0]==(4,2018,2)):\n",
    "        for items in item:\n",
    "            testdata1.append(items)\n",
    "testdata1.remove((4,2018,2))\n",
    "\n",
    "x1 = [d[0] for d in testdata1]\n",
    "y1 = [d[1] for d in testdata1]\n",
    "\n",
    "dataset2 = get_dataset()\n",
    "testdata2=[]\n",
    "for item in dataset2:\n",
    "    if(item[0]==(4,2019,2)):\n",
    "        for items in item:\n",
    "            testdata2.append(items)\n",
    "testdata2.remove((4,2019,2))\n",
    "\n",
    "x2 = [d[0] for d in testdata2]\n",
    "y2 = [d[1] for d in testdata2]\n",
    "###\n",
    "belong2 = Clustering(testdata,5)\n",
    "\n",
    "\n",
    "colorlist=[]\n",
    "for items in belong2[1]:\n",
    "    if(items==0):\n",
    "        colorlist.append('grey')\n",
    "    if(items==1):\n",
    "        colorlist.append('gold')\n",
    "    if(items==2):\n",
    "        colorlist.append('turquoise')\n",
    "    if(items==3):\n",
    "        colorlist.append('plum')\n",
    "    if(items==4):\n",
    "        colorlist.append('lawngreen')\n",
    "\n",
    "plt.figure()\n",
    "plt.xlabel('分数')\n",
    "plt.ylabel('人数')\n",
    "plt.bar(x, y, color=colorlist, alpha=0.8)\n",
    "plt.bar(user[2],y,color='red',alpha=0.8)\n",
    "plt.show()\n",
    "\n",
    "plt.figure()\n",
    "plt.xlabel('分数')\n",
    "plt.ylabel('人数')\n",
    "plt.bar(x1, y1, color=colorlist, alpha=0.8)\n",
    "plt.bar(user[2],y1,color='red',alpha=0.8)\n",
    "plt.show()\n",
    "\n",
    "plt.figure()\n",
    "plt.xlabel('分数')\n",
    "plt.ylabel('人数')\n",
    "plt.bar(x2, y2, color=colorlist, alpha=0.8)\n",
    "plt.bar(user[2],y1,color='red',alpha=0.8)\n",
    "plt.show()\n",
    "#最后print出聚类边界和每一个分数的标签，并画出一个分段聚类彩色图(以k=5为例)\n",
    "#2020.9.18"
   ]
  },
  {
   "cell_type": "code",
   "execution_count": null,
   "metadata": {},
   "outputs": [],
   "source": []
  }
 ],
 "metadata": {
  "kernelspec": {
   "display_name": "Python 3",
   "language": "python",
   "name": "python3"
  },
  "language_info": {
   "codemirror_mode": {
    "name": "ipython",
    "version": 3
   },
   "file_extension": ".py",
   "mimetype": "text/x-python",
   "name": "python",
   "nbconvert_exporter": "python",
   "pygments_lexer": "ipython3",
   "version": "3.7.6"
  }
 },
 "nbformat": 4,
 "nbformat_minor": 4
}
