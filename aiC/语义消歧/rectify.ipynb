{
 "cells": [
  {
   "cell_type": "code",
   "execution_count": 1,
   "metadata": {},
   "outputs": [],
   "source": [
    "import pandas as pd\n",
    "\n",
    "df = pd.read_csv('C:/Users/P/Desktop/二级学科改进.csv')"
   ]
  },
  {
   "cell_type": "code",
   "execution_count": 2,
   "metadata": {},
   "outputs": [],
   "source": [
    "ID = df['ID']\n",
    "name = df['名称']\n",
    "ID_name = dict(zip(ID, name))\n",
    "name_ID = dict(zip(name, ID))"
   ]
  },
  {
   "cell_type": "code",
   "execution_count": 3,
   "metadata": {},
   "outputs": [],
   "source": [
    "df = pd.read_csv('C:/Users/P/Desktop/dict.csv')"
   ]
  },
  {
   "cell_type": "code",
   "execution_count": 4,
   "metadata": {},
   "outputs": [
    {
     "data": {
      "text/plain": [
       "0                            all\n",
       "1                            all\n",
       "2       企业管理（含：财务管理、市场营销、人力资源管理）\n",
       "3       企业管理（含：财务管理、市场营销、人力资源管理）\n",
       "4       企业管理（含：财务管理、市场营销、人力资源管理）\n",
       "                  ...           \n",
       "2579                      德语语言文学\n",
       "2580                         艺术学\n",
       "2581                      外国语言文学\n",
       "2582                      外国语言文学\n",
       "2583                      外国语言文学\n",
       "Name: major2 (disambiguated), Length: 2584, dtype: object"
      ]
     },
     "execution_count": 4,
     "metadata": {},
     "output_type": "execute_result"
    }
   ],
   "source": [
    "df['major2 (disambiguated)']"
   ]
  },
  {
   "cell_type": "code",
   "execution_count": 15,
   "metadata": {},
   "outputs": [],
   "source": [
    "for i in df.index:\n",
    "    old_name = df['major2 (disambiguated)'][i]\n",
    "    if old_name not in name_ID:\n",
    "        continue\n",
    "    old_ID = name_ID[old_name]\n",
    "    if old_ID>9999:\n",
    "        new_ID = name_ID[old_name]//100\n",
    "        new_name = ID_name[new_ID]\n",
    "        df['major2 (disambiguated)'][i] = new_name\n",
    "    elif old_ID<100:\n",
    "        new_names = []\n",
    "        for m in range(50):\n",
    "            new_ID = old_ID*100+m\n",
    "            if new_ID in ID_name:\n",
    "                new_name = ID_name[new_ID]\n",
    "                new_names.append(new_name)\n",
    "        name = ';'.join(new_names)\n",
    "        df['major2 (disambiguated)'][i] = name"
   ]
  },
  {
   "cell_type": "code",
   "execution_count": 6,
   "metadata": {},
   "outputs": [
    {
     "data": {
      "text/html": [
       "<div>\n",
       "<style scoped>\n",
       "    .dataframe tbody tr th:only-of-type {\n",
       "        vertical-align: middle;\n",
       "    }\n",
       "\n",
       "    .dataframe tbody tr th {\n",
       "        vertical-align: top;\n",
       "    }\n",
       "\n",
       "    .dataframe thead th {\n",
       "        text-align: right;\n",
       "    }\n",
       "</style>\n",
       "<table border=\"1\" class=\"dataframe\">\n",
       "  <thead>\n",
       "    <tr style=\"text-align: right;\">\n",
       "      <th></th>\n",
       "      <th>major (origin)</th>\n",
       "      <th>major2 (disambiguated)</th>\n",
       "    </tr>\n",
       "  </thead>\n",
       "  <tbody>\n",
       "    <tr>\n",
       "      <td>0</td>\n",
       "      <td>all</td>\n",
       "      <td>all</td>\n",
       "    </tr>\n",
       "    <tr>\n",
       "      <td>1</td>\n",
       "      <td>All</td>\n",
       "      <td>all</td>\n",
       "    </tr>\n",
       "    <tr>\n",
       "      <td>2</td>\n",
       "      <td>人力资源管理</td>\n",
       "      <td>工商管理</td>\n",
       "    </tr>\n",
       "    <tr>\n",
       "      <td>3</td>\n",
       "      <td>人力资源管理（人力资源管理、公共事业管理）</td>\n",
       "      <td>工商管理</td>\n",
       "    </tr>\n",
       "    <tr>\n",
       "      <td>4</td>\n",
       "      <td>人力资源管理（含公共事业管理专业、人力资源管理专业）</td>\n",
       "      <td>工商管理</td>\n",
       "    </tr>\n",
       "    <tr>\n",
       "      <td>...</td>\n",
       "      <td>...</td>\n",
       "      <td>...</td>\n",
       "    </tr>\n",
       "    <tr>\n",
       "      <td>2579</td>\n",
       "      <td>德语（商务）</td>\n",
       "      <td>外国语言文学</td>\n",
       "    </tr>\n",
       "    <tr>\n",
       "      <td>2580</td>\n",
       "      <td>雕塑</td>\n",
       "      <td>艺术学</td>\n",
       "    </tr>\n",
       "    <tr>\n",
       "      <td>2581</td>\n",
       "      <td>翻译</td>\n",
       "      <td>外国语言文学</td>\n",
       "    </tr>\n",
       "    <tr>\n",
       "      <td>2582</td>\n",
       "      <td>翻译(双外语)</td>\n",
       "      <td>外国语言文学</td>\n",
       "    </tr>\n",
       "    <tr>\n",
       "      <td>2583</td>\n",
       "      <td>翻译（涉外法商）</td>\n",
       "      <td>外国语言文学</td>\n",
       "    </tr>\n",
       "  </tbody>\n",
       "</table>\n",
       "<p>2584 rows × 2 columns</p>\n",
       "</div>"
      ],
      "text/plain": [
       "                  major (origin) major2 (disambiguated)\n",
       "0                            all                    all\n",
       "1                            All                    all\n",
       "2                         人力资源管理                   工商管理\n",
       "3          人力资源管理（人力资源管理、公共事业管理）                   工商管理\n",
       "4     人力资源管理（含公共事业管理专业、人力资源管理专业）                   工商管理\n",
       "...                          ...                    ...\n",
       "2579                      德语（商务）                 外国语言文学\n",
       "2580                          雕塑                    艺术学\n",
       "2581                          翻译                 外国语言文学\n",
       "2582                     翻译(双外语)                 外国语言文学\n",
       "2583                    翻译（涉外法商）                 外国语言文学\n",
       "\n",
       "[2584 rows x 2 columns]"
      ]
     },
     "execution_count": 6,
     "metadata": {},
     "output_type": "execute_result"
    }
   ],
   "source": [
    "df"
   ]
  },
  {
   "cell_type": "code",
   "execution_count": 7,
   "metadata": {},
   "outputs": [],
   "source": [
    "df['ID']=''"
   ]
  },
  {
   "cell_type": "code",
   "execution_count": 16,
   "metadata": {},
   "outputs": [],
   "source": [
    "for i in df.index:\n",
    "    n = df['major2 (disambiguated)'][i]\n",
    "    names = n.split(\";\")\n",
    "    IDs = []\n",
    "    for name in names:\n",
    "        if name in name_ID:\n",
    "            ID = name_ID[name]\n",
    "            IDs.append(ID)\n",
    "    IDs = [str(i) for i in IDs]\n",
    "    for n in range(len(IDs)):\n",
    "        if len(IDs[n])>4:\n",
    "            IDs[n] = IDs[n][:-2]\n",
    "    df['ID'][i] = ';'.join(IDs)"
   ]
  },
  {
   "cell_type": "code",
   "execution_count": 9,
   "metadata": {},
   "outputs": [],
   "source": [
    "new_df = pd.read_csv('C:/Users/P/Desktop/一级学科(final).csv')"
   ]
  },
  {
   "cell_type": "code",
   "execution_count": 10,
   "metadata": {},
   "outputs": [
    {
     "data": {
      "text/html": [
       "<div>\n",
       "<style scoped>\n",
       "    .dataframe tbody tr th:only-of-type {\n",
       "        vertical-align: middle;\n",
       "    }\n",
       "\n",
       "    .dataframe tbody tr th {\n",
       "        vertical-align: top;\n",
       "    }\n",
       "\n",
       "    .dataframe thead th {\n",
       "        text-align: right;\n",
       "    }\n",
       "</style>\n",
       "<table border=\"1\" class=\"dataframe\">\n",
       "  <thead>\n",
       "    <tr style=\"text-align: right;\">\n",
       "      <th></th>\n",
       "      <th>一级学科(两位代码是学科门类，四位是一级学科)</th>\n",
       "      <th>Unnamed: 1</th>\n",
       "    </tr>\n",
       "  </thead>\n",
       "  <tbody>\n",
       "    <tr>\n",
       "      <td>0</td>\n",
       "      <td>1</td>\n",
       "      <td>哲学</td>\n",
       "    </tr>\n",
       "    <tr>\n",
       "      <td>1</td>\n",
       "      <td>101</td>\n",
       "      <td>哲学</td>\n",
       "    </tr>\n",
       "    <tr>\n",
       "      <td>2</td>\n",
       "      <td>2</td>\n",
       "      <td>经济学</td>\n",
       "    </tr>\n",
       "    <tr>\n",
       "      <td>3</td>\n",
       "      <td>201</td>\n",
       "      <td>理论经济学</td>\n",
       "    </tr>\n",
       "    <tr>\n",
       "      <td>4</td>\n",
       "      <td>202</td>\n",
       "      <td>应用经济学</td>\n",
       "    </tr>\n",
       "    <tr>\n",
       "      <td>...</td>\n",
       "      <td>...</td>\n",
       "      <td>...</td>\n",
       "    </tr>\n",
       "    <tr>\n",
       "      <td>99</td>\n",
       "      <td>1304</td>\n",
       "      <td>all</td>\n",
       "    </tr>\n",
       "    <tr>\n",
       "      <td>100</td>\n",
       "      <td>14</td>\n",
       "      <td>xx学院</td>\n",
       "    </tr>\n",
       "    <tr>\n",
       "      <td>101</td>\n",
       "      <td>1401</td>\n",
       "      <td>弘毅学堂</td>\n",
       "    </tr>\n",
       "    <tr>\n",
       "      <td>102</td>\n",
       "      <td>1402</td>\n",
       "      <td>茅以升学院</td>\n",
       "    </tr>\n",
       "    <tr>\n",
       "      <td>103</td>\n",
       "      <td>1403</td>\n",
       "      <td>徐特立英才班</td>\n",
       "    </tr>\n",
       "  </tbody>\n",
       "</table>\n",
       "<p>104 rows × 2 columns</p>\n",
       "</div>"
      ],
      "text/plain": [
       "     一级学科(两位代码是学科门类，四位是一级学科) Unnamed: 1\n",
       "0                          1         哲学\n",
       "1                        101         哲学\n",
       "2                          2        经济学\n",
       "3                        201      理论经济学\n",
       "4                        202      应用经济学\n",
       "..                       ...        ...\n",
       "99                      1304        all\n",
       "100                       14       xx学院\n",
       "101                     1401       弘毅学堂\n",
       "102                     1402      茅以升学院\n",
       "103                     1403     徐特立英才班\n",
       "\n",
       "[104 rows x 2 columns]"
      ]
     },
     "execution_count": 10,
     "metadata": {},
     "output_type": "execute_result"
    }
   ],
   "source": [
    "new_df"
   ]
  },
  {
   "cell_type": "code",
   "execution_count": 11,
   "metadata": {},
   "outputs": [],
   "source": [
    "ID = new_df['一级学科(两位代码是学科门类，四位是一级学科)']\n",
    "name = new_df['Unnamed: 1']\n",
    "ID_name = dict(zip(ID, name))\n",
    "name_ID = dict(zip(name, ID))"
   ]
  },
  {
   "cell_type": "code",
   "execution_count": 12,
   "metadata": {},
   "outputs": [],
   "source": [
    "for i in df.index:\n",
    "    n = df['major2 (disambiguated)'][i]\n",
    "    names = n.split(\";\")\n",
    "    IDs = []\n",
    "    for name in names:\n",
    "        if name in name_ID:\n",
    "            ID = name_ID[name]\n",
    "            IDs.append(ID)\n",
    "    IDs = [str(i) for i in IDs]\n",
    "    for n in range(len(IDs)):\n",
    "        if len(IDs[n])>4:\n",
    "            IDs[n] = IDs[n][:-2]\n",
    "    df['ID'][i] = ';'.join(IDs)"
   ]
  },
  {
   "cell_type": "code",
   "execution_count": 13,
   "metadata": {},
   "outputs": [
    {
     "name": "stdout",
     "output_type": "stream",
     "text": [
      "无数据\n",
      "专业组1\n",
      "专业组2\n",
      "不限组\n",
      "少数民族卓越班\n",
      "少数民族预科班\n",
      "少数民族预科班\n",
      "少数民族预科班\n",
      "本科预科班\n",
      "北京邮电大学\n",
      "\t\t\t（专业组一）\n",
      "北京邮电大学\n",
      "\t\t\t（专业组二）\n",
      "北京邮电大学（专业组一）\n",
      "北京邮电大学（专业组二）\n",
      "北京邮电大学（宏福校区）\n",
      "合计\n",
      "合计（汉）\n",
      "图书馆,情报与档案管理\n",
      "图书馆,情报与档案管理\n",
      "图书馆,情报与档案管理\n",
      "省内预科班\n",
      "省内预科班\n",
      "图书馆,情报与档案管理\n",
      "图书馆,情报与档案管理\n",
      "校本部\n",
      "图书馆,情报与档案管理\n",
      "高收费\n",
      "资产评估\n",
      "预科\n",
      "预科（文）\n",
      "预科（理）\n",
      "预科文科\n",
      "预科班\n",
      "预科班（人力资源管理）（只招少数民族考生）\n",
      "预科理科\n",
      "理科统招\n"
     ]
    }
   ],
   "source": [
    "for i in df.index:\n",
    "    if df['ID'][i]=='':\n",
    "        print(df['major2 (disambiguated)'][i])\n",
    "        df=df.drop(labels=i)"
   ]
  },
  {
   "cell_type": "code",
   "execution_count": 17,
   "metadata": {},
   "outputs": [],
   "source": [
    "df.to_csv('C:/Users/P/Desktop/result.csv',index=0) #不保存行索引"
   ]
  },
  {
   "cell_type": "code",
   "execution_count": null,
   "metadata": {},
   "outputs": [],
   "source": []
  }
 ],
 "metadata": {
  "kernelspec": {
   "display_name": "Python 3",
   "language": "python",
   "name": "python3"
  },
  "language_info": {
   "codemirror_mode": {
    "name": "ipython",
    "version": 3
   },
   "file_extension": ".py",
   "mimetype": "text/x-python",
   "name": "python",
   "nbconvert_exporter": "python",
   "pygments_lexer": "ipython3",
   "version": "3.7.4"
  }
 },
 "nbformat": 4,
 "nbformat_minor": 2
}
