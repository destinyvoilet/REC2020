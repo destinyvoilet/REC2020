{
 "cells": [
  {
   "cell_type": "code",
   "execution_count": 101,
   "metadata": {},
   "outputs": [],
   "source": [
    "import pandas as pd\n"
   ]
  },
  {
   "cell_type": "code",
   "execution_count": 103,
   "metadata": {},
   "outputs": [
    {
     "name": "stdout",
     "output_type": "stream",
     "text": [
      "Writing to C:\\Users\\PC\\Desktop\\软件实践\\二\\major_import.csv file...\n",
      "<class 'pandas.core.series.Series'>\n",
      "RangeIndex(start=0, stop=2547, step=1)\n",
      "  Major:ID    Major :LABEL\n",
      "0       M0      all  Major\n",
      "1       M1  外国语言文学类  Major\n",
      "2       M2     财政学类  Major\n",
      "3       M3       法学  Major\n",
      "4       M4    工商管理类  Major\n",
      "5       M5     国际政治  Major\n",
      "6       M6     金融学类  Major\n",
      "7       M7     经济学类  Major\n",
      "8       M8    理科试验班  Major\n",
      "9       M9   人力资源管理  Major\n",
      "- done.\n"
     ]
    }
   ],
   "source": [
    "def build_major(input_file, output_file):\n",
    "    header_list = ['Major_id','Major',':LABEL']\n",
    "    major_df = pd.read_csv(input_file,encoding = 'gbk')\n",
    "    \n",
    "    print('Writing to {} file...'.format(output_file.split('/')[-1]))\n",
    "#     print(major_df[:11])\n",
    "    major_id = major_df['Major:ID']\n",
    "    print(type(major_id))\n",
    "    major = major_df['Major'].drop_duplicates()\n",
    "    major = major.reset_index(drop=True)\n",
    "    print(major.index)\n",
    "#     major_imort = pd.concat([major_id,major],axis = 1)\n",
    "#     major = major.to_frame()\n",
    "    \n",
    "    lst = ['M{}'.format(x) for x in major.index]\n",
    "    lst = pd.DataFrame(lst).rename(columns={0:'Major:ID'})\n",
    "#     lst = lst\n",
    "#     print(lst[:10])\n",
    "    major = pd.concat([lst,major],axis = 1)\n",
    "    major[':LABEL']='Major'\n",
    "    #major.to_csv(output_file, encoding = 'utf_8_sig',index=None)\n",
    "    print(major[:10])\n",
    "    print('- done.')\n",
    "    return major\n",
    "major_file = r'C:\\Users\\PC\\Desktop\\软件实践\\二\\major.csv'\n",
    "major_import = r\"C:\\Users\\PC\\Desktop\\软件实践\\二\\major_import.csv\"\n",
    "major=build_major(major_file, major_import)\n",
    "major.columns = ['new','Major',':LABEL']"
   ]
  },
  {
   "cell_type": "code",
   "execution_count": 105,
   "metadata": {},
   "outputs": [],
   "source": [
    "input_file=r'C:\\Users\\PC\\Desktop\\软件实践\\二\\major.csv'\n",
    "major_ori = pd.read_csv(input_file,encoding = 'gbk')\n",
    "\n",
    "df = major_ori.merge(major,how = 'left')\n"
   ]
  },
  {
   "cell_type": "markdown",
   "metadata": {},
   "source": [
    "major_ori['m-M']=0\n",
    "for indexs in major_ori.index:\n",
    "    print(major_ori.loc[indexs].values[4]))"
   ]
  },
  {
   "cell_type": "code",
   "execution_count": null,
   "metadata": {},
   "outputs": [],
   "source": []
  },
  {
   "cell_type": "code",
   "execution_count": 106,
   "metadata": {},
   "outputs": [
    {
     "name": "stdout",
     "output_type": "stream",
     "text": [
      "       Major:ID  Year Province category   Major  score  Contributor  \\\n",
      "0            m0  2019       p9       s2     all    615   09118101高捷   \n",
      "1            m1  2019      p29       s2     all    660   09118101高捷   \n",
      "2            m2  2019      p29       s1     all    629   09118101高捷   \n",
      "3            m3  2019       p1       s2     all    673   09118101高捷   \n",
      "4            m4  2019       p1       s1     all    637   09118101高捷   \n",
      "...         ...   ...      ...      ...     ...    ...          ...   \n",
      "162366  m163516  2017      p27       s1      英语    586  61518431郁航远   \n",
      "162367  m163517  2017      p27       s1  新闻传播学类    588  61518431郁航远   \n",
      "162368  m163518  2017      p27       s1    政治学类    585  61518431郁航远   \n",
      "162369  m163519  2017      p27       s1      哲学    585  61518431郁航远   \n",
      "162370  m163520  2017      p27       s1      法学    591  61518431郁航远   \n",
      "\n",
      "       disambiguated    ID    new :LABEL  \n",
      "0                all  1304     M0  Major  \n",
      "1                all  1304     M0  Major  \n",
      "2                all  1304     M0  Major  \n",
      "3                all  1304     M0  Major  \n",
      "4                all  1304     M0  Major  \n",
      "...              ...   ...    ...    ...  \n",
      "162366        外国语言文学   502    M38  Major  \n",
      "162367         新闻传播学   503    M13  Major  \n",
      "162368           政治学   302  M1024  Major  \n",
      "162369            哲学   101   M535  Major  \n",
      "162370            法学   301     M3  Major  \n",
      "\n",
      "[162371 rows x 11 columns]\n"
     ]
    }
   ],
   "source": [
    "print(df)\n",
    "del df['score']\n",
    "del df['Province']\n",
    "del df['category']\n",
    "del df['Major']\n",
    "del df['Contributor']\n",
    "del df['disambiguated']\n",
    "del df['ID']\n",
    "del df[':LABEL']"
   ]
  },
  {
   "cell_type": "code",
   "execution_count": 107,
   "metadata": {},
   "outputs": [
    {
     "name": "stdout",
     "output_type": "stream",
     "text": [
      "       Major:ID  Year    new\n",
      "0            m0  2019     M0\n",
      "1            m1  2019     M0\n",
      "2            m2  2019     M0\n",
      "3            m3  2019     M0\n",
      "4            m4  2019     M0\n",
      "...         ...   ...    ...\n",
      "162366  m163516  2017    M38\n",
      "162367  m163517  2017    M13\n",
      "162368  m163518  2017  M1024\n",
      "162369  m163519  2017   M535\n",
      "162370  m163520  2017     M3\n",
      "\n",
      "[162371 rows x 3 columns]\n"
     ]
    }
   ],
   "source": [
    "print(df)"
   ]
  },
  {
   "cell_type": "code",
   "execution_count": 108,
   "metadata": {},
   "outputs": [
    {
     "name": "stdout",
     "output_type": "stream",
     "text": [
      "       Major:ID    new\n",
      "0            m0     M0\n",
      "1            m1     M0\n",
      "2            m2     M0\n",
      "3            m3     M0\n",
      "4            m4     M0\n",
      "...         ...    ...\n",
      "162366  m163516    M38\n",
      "162367  m163517    M13\n",
      "162368  m163518  M1024\n",
      "162369  m163519   M535\n",
      "162370  m163520     M3\n",
      "\n",
      "[162371 rows x 2 columns]\n"
     ]
    }
   ],
   "source": [
    "del df['Year']\n",
    "\n",
    "print(df)"
   ]
  },
  {
   "cell_type": "code",
   "execution_count": 109,
   "metadata": {},
   "outputs": [
    {
     "name": "stdout",
     "output_type": "stream",
     "text": [
      "        :END_ID    new\n",
      "0            m0     M0\n",
      "1            m1     M0\n",
      "2            m2     M0\n",
      "3            m3     M0\n",
      "4            m4     M0\n",
      "...         ...    ...\n",
      "162366  m163516    M38\n",
      "162367  m163517    M13\n",
      "162368  m163518  M1024\n",
      "162369  m163519   M535\n",
      "162370  m163520     M3\n",
      "\n",
      "[162371 rows x 2 columns]\n"
     ]
    }
   ],
   "source": [
    "df.columns = [':END_ID','new']\n",
    "print(df)"
   ]
  },
  {
   "cell_type": "code",
   "execution_count": 113,
   "metadata": {},
   "outputs": [
    {
     "name": "stdout",
     "output_type": "stream",
     "text": [
      "       :START_ID  has  :END_ID :TYPE   new\n",
      "0         c10003  has       m1   HAS    M0\n",
      "1         c10003  has       m2   HAS    M0\n",
      "2         c10003  has       m3   HAS    M0\n",
      "3         c10003  has       m4   HAS    M0\n",
      "4         c10003  has       m5   HAS    M0\n",
      "...          ...  ...      ...   ...   ...\n",
      "148123    c10730  has  m149221   HAS   M39\n",
      "148124    c10730  has  m149223   HAS    M3\n",
      "148125    c10730  has  m149224   HAS  M114\n",
      "148126    c10730  has  m149225   HAS   M38\n",
      "148127    c10730  has  m149226   HAS   M13\n",
      "\n",
      "[148128 rows x 5 columns]\n"
     ]
    }
   ],
   "source": [
    "input_file=r'C:\\Users\\PC\\Desktop\\软件实践\\二\\preprocess\\relation\\has.csv'\n",
    "input_file2=pd.read_csv(input_file)\n",
    "dfnew=input_file2.merge(df,how = 'inner')\n",
    "print(dfnew)"
   ]
  },
  {
   "cell_type": "code",
   "execution_count": 114,
   "metadata": {},
   "outputs": [],
   "source": [
    "del dfnew[':END_ID']\n",
    "dfnew.columns = [':START_ID' ,'has',':TYPE',':END_ID']"
   ]
  },
  {
   "cell_type": "code",
   "execution_count": 115,
   "metadata": {},
   "outputs": [
    {
     "name": "stdout",
     "output_type": "stream",
     "text": [
      "       :START_ID  has :TYPE :END_ID\n",
      "0         c10003  has   HAS      M0\n",
      "1         c10003  has   HAS      M0\n",
      "2         c10003  has   HAS      M0\n",
      "3         c10003  has   HAS      M0\n",
      "4         c10003  has   HAS      M0\n",
      "...          ...  ...   ...     ...\n",
      "148123    c10730  has   HAS     M39\n",
      "148124    c10730  has   HAS      M3\n",
      "148125    c10730  has   HAS    M114\n",
      "148126    c10730  has   HAS     M38\n",
      "148127    c10730  has   HAS     M13\n",
      "\n",
      "[148128 rows x 4 columns]\n"
     ]
    }
   ],
   "source": [
    "print(dfnew)"
   ]
  },
  {
   "cell_type": "code",
   "execution_count": 119,
   "metadata": {},
   "outputs": [],
   "source": [
    "output_file=r'C:\\Users\\PC\\Desktop\\软件实践\\has_new.csv'\n",
    "dfnew.drop_duplicates(keep='first',inplace=True)\n",
    "dfnew.to_csv(output_file, encoding = 'utf_8_sig',index=None)"
   ]
  },
  {
   "cell_type": "code",
   "execution_count": 122,
   "metadata": {},
   "outputs": [
    {
     "name": "stdout",
     "output_type": "stream",
     "text": [
      "   Province Province Name\n",
      "0        p1            河南\n",
      "1        p2            天津\n",
      "2        p3            海南\n",
      "3        p4            江苏\n",
      "4        p5            陕西\n",
      "5        p6            青海\n",
      "6        p7            澳门\n",
      "7        p8            香港\n",
      "8        p9            上海\n",
      "9       p10            山西\n",
      "10      p11            江西\n",
      "11      p12           黑龙江\n",
      "12      p13            浙江\n",
      "13      p14            贵州\n",
      "14      p15            西藏\n",
      "15      p16            山东\n",
      "16      p17            河北\n",
      "17      p18            辽宁\n",
      "18      p19            福建\n",
      "19      p20            新疆\n",
      "20      p21            湖北\n",
      "21      p22            湖南\n",
      "22      p23            吉林\n",
      "23      p24            广东\n",
      "24      p25            北京\n",
      "25      p26            台湾\n",
      "26      p27            重庆\n",
      "27      p28            安徽\n",
      "28      p29            广西\n",
      "29      p30            甘肃\n",
      "30      p31            宁夏\n",
      "31      p32            云南\n",
      "32      p33            四川\n",
      "33      p34           内蒙古\n",
      "34      p35          港澳台侨\n",
      "35      p36          全国联招\n",
      "36      p37            华侨\n"
     ]
    }
   ],
   "source": [
    "pro=r'C:\\Users\\PC\\Desktop\\软件实践\\二\\provincenew.csv'\n",
    "input_file3=pd.read_csv(pro)\n",
    "print(input_file3)"
   ]
  },
  {
   "cell_type": "code",
   "execution_count": 123,
   "metadata": {},
   "outputs": [
    {
     "name": "stdout",
     "output_type": "stream",
     "text": [
      "       Major:ID  Year Province category   Major  score  Contributor  \\\n",
      "0            m0  2019       p9       s2     all    615   09118101高捷   \n",
      "1            m1  2019      p29       s2     all    660   09118101高捷   \n",
      "2            m2  2019      p29       s1     all    629   09118101高捷   \n",
      "3            m3  2019       p1       s2     all    673   09118101高捷   \n",
      "4            m4  2019       p1       s1     all    637   09118101高捷   \n",
      "...         ...   ...      ...      ...     ...    ...          ...   \n",
      "162366  m163516  2017      p27       s1      英语    586  61518431郁航远   \n",
      "162367  m163517  2017      p27       s1  新闻传播学类    588  61518431郁航远   \n",
      "162368  m163518  2017      p27       s1    政治学类    585  61518431郁航远   \n",
      "162369  m163519  2017      p27       s1      哲学    585  61518431郁航远   \n",
      "162370  m163520  2017      p27       s1      法学    591  61518431郁航远   \n",
      "\n",
      "       disambiguated    ID  \n",
      "0                all  1304  \n",
      "1                all  1304  \n",
      "2                all  1304  \n",
      "3                all  1304  \n",
      "4                all  1304  \n",
      "...              ...   ...  \n",
      "162366        外国语言文学   502  \n",
      "162367         新闻传播学   503  \n",
      "162368           政治学   302  \n",
      "162369            哲学   101  \n",
      "162370            法学   301  \n",
      "\n",
      "[162371 rows x 9 columns]\n"
     ]
    }
   ],
   "source": [
    "input_file=r'C:\\Users\\PC\\Desktop\\软件实践\\二\\major.csv'\n",
    "major_ori = pd.read_csv(input_file,encoding = 'gbk')\n",
    "print(major_ori)"
   ]
  },
  {
   "cell_type": "code",
   "execution_count": 124,
   "metadata": {},
   "outputs": [
    {
     "name": "stdout",
     "output_type": "stream",
     "text": [
      "       Major:ID  Year Province category   Major  score  Contributor  \\\n",
      "0            m0  2019       p9       s2     all    615   09118101高捷   \n",
      "1            m1  2019      p29       s2     all    660   09118101高捷   \n",
      "2            m2  2019      p29       s1     all    629   09118101高捷   \n",
      "3            m3  2019       p1       s2     all    673   09118101高捷   \n",
      "4            m4  2019       p1       s1     all    637   09118101高捷   \n",
      "...         ...   ...      ...      ...     ...    ...          ...   \n",
      "162366  m163516  2017      p27       s1      英语    586  61518431郁航远   \n",
      "162367  m163517  2017      p27       s1  新闻传播学类    588  61518431郁航远   \n",
      "162368  m163518  2017      p27       s1    政治学类    585  61518431郁航远   \n",
      "162369  m163519  2017      p27       s1      哲学    585  61518431郁航远   \n",
      "162370  m163520  2017      p27       s1      法学    591  61518431郁航远   \n",
      "\n",
      "       disambiguated    ID    new :LABEL  \n",
      "0                all  1304     M0  Major  \n",
      "1                all  1304     M0  Major  \n",
      "2                all  1304     M0  Major  \n",
      "3                all  1304     M0  Major  \n",
      "4                all  1304     M0  Major  \n",
      "...              ...   ...    ...    ...  \n",
      "162366        外国语言文学   502    M38  Major  \n",
      "162367         新闻传播学   503    M13  Major  \n",
      "162368           政治学   302  M1024  Major  \n",
      "162369            哲学   101   M535  Major  \n",
      "162370            法学   301     M3  Major  \n",
      "\n",
      "[162371 rows x 11 columns]\n"
     ]
    }
   ],
   "source": [
    "df1 = major_ori.merge(major,how = 'left')\n",
    "print(df1)"
   ]
  },
  {
   "cell_type": "code",
   "execution_count": 125,
   "metadata": {},
   "outputs": [],
   "source": [
    "del df1['Year']\n",
    "del df1['category']\n",
    "del df1['Major']\n",
    "del df1['score']\n",
    "del df1['Contributor']\n",
    "del df1['disambiguated']\n",
    "del df1['ID']\n",
    "del df1[':LABEL']\n",
    "del df1['Major:ID']"
   ]
  },
  {
   "cell_type": "code",
   "execution_count": 130,
   "metadata": {},
   "outputs": [
    {
     "name": "stdout",
     "output_type": "stream",
     "text": [
      "       Province    new\n",
      "0            p9     M0\n",
      "1           p29     M0\n",
      "3            p1     M0\n",
      "5            p6     M0\n",
      "7           p30     M0\n",
      "...         ...    ...\n",
      "162329      p27  M1478\n",
      "162334      p27  M2544\n",
      "162347      p27  M2533\n",
      "162354      p27  M2531\n",
      "162361      p27  M2536\n",
      "\n",
      "[26964 rows x 2 columns]\n"
     ]
    }
   ],
   "source": [
    "df1.drop_duplicates(keep='first',inplace=True)\n",
    "print(df1)"
   ]
  },
  {
   "cell_type": "code",
   "execution_count": 134,
   "metadata": {},
   "outputs": [],
   "source": [
    "output_file1=r'C:\\Users\\PC\\Desktop\\软件实践\\major-pro.csv'\n",
    "df1.colums=[':END_ID',':START_ID']\n",
    "df1[':TYPE']='enroll'\n",
    "df1.to_csv(output_file1, encoding = 'utf_8_sig',index=None)"
   ]
  },
  {
   "cell_type": "code",
   "execution_count": null,
   "metadata": {},
   "outputs": [],
   "source": []
  }
 ],
 "metadata": {
  "kernelspec": {
   "display_name": "Python 3",
   "language": "python",
   "name": "python3"
  },
  "language_info": {
   "codemirror_mode": {
    "name": "ipython",
    "version": 3
   },
   "file_extension": ".py",
   "mimetype": "text/x-python",
   "name": "python",
   "nbconvert_exporter": "python",
   "pygments_lexer": "ipython3",
   "version": "3.7.4"
  }
 },
 "nbformat": 4,
 "nbformat_minor": 2
}
